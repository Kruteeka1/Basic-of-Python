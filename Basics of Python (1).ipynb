{
 "cells": [
  {
   "cell_type": "markdown",
   "id": "0b418759-e873-4934-91d6-6075cb5c2143",
   "metadata": {},
   "source": [
    "Exercise 1: Prime Numbers\n",
    "\n",
    "Write a Python program that checks whether a given number is prime or not. A prime number is a natural number greater than 1 that has no positive divisors other than 1 and itself."
   ]
  },
  {
   "cell_type": "code",
   "execution_count": 2,
   "id": "32548ed2-d329-40b8-bb7d-42f497060df7",
   "metadata": {},
   "outputs": [
    {
     "name": "stdin",
     "output_type": "stream",
     "text": [
      "Enter a number:  66\n"
     ]
    },
    {
     "name": "stdout",
     "output_type": "stream",
     "text": [
      "66 is not a prime number.\n"
     ]
    }
   ],
   "source": [
    "def is_prime(n):\n",
    "    \"\"\"Check if a number is prime.\n",
    "\n",
    "    Args:\n",
    "        n (int): The number to check.\n",
    "\n",
    "    Returns:\n",
    "        bool: True if the number is prime, False otherwise.\n",
    "    \"\"\"\n",
    "    # Early elimination for numbers less than 2\n",
    "    if n <= 1:\n",
    "        return False\n",
    "\n",
    "    # Check divisibility from 2 up to the square root of n\n",
    "    for i in range(2, int(n**0.5) + 1):\n",
    "        if n % i == 0:\n",
    "            return False\n",
    "\n",
    "    return True\n",
    "\n",
    "# Example usage\n",
    "number = int(input(\"Enter a number: \"))\n",
    "if is_prime(number):\n",
    "    print(f\"{number} is a prime number.\")\n",
    "else:\n",
    "    print(f\"{number} is not a prime number.\")"
   ]
  },
  {
   "cell_type": "markdown",
   "id": "a0b8ff78-3197-4bad-bfde-9d1ba7c6c3dd",
   "metadata": {},
   "source": [
    " **Explanation**\n",
    "\n",
    "Function Definition:\n",
    "\n",
    "The function is_prime takes an integer n as input and returns a boolean indicating whether n is a prime number.\n",
    "\n",
    "Initial Check:\n",
    "\n",
    "If n is less than or equal to 1, it is not prime by definition, so the function immediately returns False.\n",
    "\n",
    "Loop for Divisibility Check:\n",
    "\n",
    "The function then iterates from 2 up to the square root of n (inclusive). This is achieved using range(2, int(n**0.5) + 1).\n",
    "For each number i in this range, the function checks if n is divisible by i (n % i == 0). If it is, n is not prime, and the function returns False.\n",
    "\n",
    "Prime Confirmation:\n",
    "\n",
    "If the loop completes without finding any divisors, the function returns True, indicating that n is a prime number.\n",
    "\n",
    "Usage\n",
    "\n",
    "The program reads an integer from the user, calls the is_prime function, and prints whether the number is prime or not."
   ]
  },
  {
   "cell_type": "markdown",
   "id": "5677e9f1-9f2d-4344-866b-846e95fe2aa2",
   "metadata": {},
   "source": [
    "# Exercise 2: Product of Random Numbers\n",
    "\n",
    "Develop a Python program that generates two random numbers and asks the user to enter the product of these numbers. The program should then check if the user's answer is correct and display an appropriate message."
   ]
  },
  {
   "cell_type": "code",
   "execution_count": 12,
   "id": "155d7c99-77af-45a2-ba58-740e64facd91",
   "metadata": {},
   "outputs": [
    {
     "name": "stdout",
     "output_type": "stream",
     "text": [
      "Please multiply the following numbers: 10 and 84\n"
     ]
    },
    {
     "name": "stdin",
     "output_type": "stream",
     "text": [
      "Enter the product:  840\n"
     ]
    },
    {
     "name": "stdout",
     "output_type": "stream",
     "text": [
      "Correct! Well done.\n"
     ]
    }
   ],
   "source": [
    "import random\n",
    "\n",
    "def generate_random_numbers():\n",
    "    \"\"\"Generate two random integers between 1 and 100.\"\"\"\n",
    "    num1 = random.randint(1, 100)\n",
    "    num2 = random.randint(1, 100)\n",
    "    return num1, num2\n",
    "\n",
    "def main():\n",
    "    # Generate two random numbers\n",
    "    num1, num2 = generate_random_numbers()\n",
    "\n",
    "    # Calculate the correct product\n",
    "    correct_product = num1 * num2\n",
    "\n",
    "    # Prompt the user to enter the product\n",
    "    print(f\"Please multiply the following numbers: {num1} and {num2}\")\n",
    "    user_input = input(\"Enter the product: \")\n",
    "\n",
    "    # Check if the user's input is correct\n",
    "    try:\n",
    "        user_product = int(user_input)\n",
    "        if user_product == correct_product:\n",
    "            print(\"Correct! Well done.\")\n",
    "        else:\n",
    "            print(f\"Incorrect. The correct product is {correct_product}.\")\n",
    "    except ValueError:\n",
    "        print(\"Invalid input. Please enter a valid integer.\")\n",
    "\n",
    "if __name__ == \"__main__\":\n",
    "    main()"
   ]
  },
  {
   "cell_type": "markdown",
   "id": "716ae866-1e68-4c85-8be4-0b846f5d69ff",
   "metadata": {},
   "source": [
    "# Exercise 3: Squares of Even/Odd Numbers\n",
    "\n",
    "Create a Python script that prints the squares of all even or odd numbers within the range of 100 to 200. Choose either even or odd numbers and document your choice in the code."
   ]
  },
  {
   "cell_type": "code",
   "execution_count": 15,
   "id": "484e87e7-1bde-46ac-80af-5a98d455eb3d",
   "metadata": {},
   "outputs": [
    {
     "name": "stdout",
     "output_type": "stream",
     "text": [
      "The square of 100 is 10000\n",
      "The square of 102 is 10404\n",
      "The square of 104 is 10816\n",
      "The square of 106 is 11236\n",
      "The square of 108 is 11664\n",
      "The square of 110 is 12100\n",
      "The square of 112 is 12544\n",
      "The square of 114 is 12996\n",
      "The square of 116 is 13456\n",
      "The square of 118 is 13924\n",
      "The square of 120 is 14400\n",
      "The square of 122 is 14884\n",
      "The square of 124 is 15376\n",
      "The square of 126 is 15876\n",
      "The square of 128 is 16384\n",
      "The square of 130 is 16900\n",
      "The square of 132 is 17424\n",
      "The square of 134 is 17956\n",
      "The square of 136 is 18496\n",
      "The square of 138 is 19044\n",
      "The square of 140 is 19600\n",
      "The square of 142 is 20164\n",
      "The square of 144 is 20736\n",
      "The square of 146 is 21316\n",
      "The square of 148 is 21904\n",
      "The square of 150 is 22500\n",
      "The square of 152 is 23104\n",
      "The square of 154 is 23716\n",
      "The square of 156 is 24336\n",
      "The square of 158 is 24964\n",
      "The square of 160 is 25600\n",
      "The square of 162 is 26244\n",
      "The square of 164 is 26896\n",
      "The square of 166 is 27556\n",
      "The square of 168 is 28224\n",
      "The square of 170 is 28900\n",
      "The square of 172 is 29584\n",
      "The square of 174 is 30276\n",
      "The square of 176 is 30976\n",
      "The square of 178 is 31684\n",
      "The square of 180 is 32400\n",
      "The square of 182 is 33124\n",
      "The square of 184 is 33856\n",
      "The square of 186 is 34596\n",
      "The square of 188 is 35344\n",
      "The square of 190 is 36100\n",
      "The square of 192 is 36864\n",
      "The square of 194 is 37636\n",
      "The square of 196 is 38416\n",
      "The square of 198 is 39204\n",
      "The square of 200 is 40000\n"
     ]
    }
   ],
   "source": [
    "def print_even_squares(start, end):\n",
    "    \"\"\"Print the squares of all even numbers within the given range.\n",
    "\n",
    "    Args:\n",
    "        start (int): The starting number of the range.\n",
    "        end (int): The ending number of the range.\n",
    "    \"\"\"\n",
    "    for number in range(start, end + 1):\n",
    "        if number % 2 == 0:  # Check if the number is even\n",
    "            print(f\"The square of {number} is {number**2}\")\n",
    "\n",
    "def main():\n",
    "    # Define the range\n",
    "    start = 100\n",
    "    end = 200\n",
    "\n",
    "    # Print squares of even numbers in the specified range\n",
    "    print_even_squares(start, end)\n",
    "\n",
    "if __name__ == \"__main__\":\n",
    "    main()"
   ]
  },
  {
   "cell_type": "markdown",
   "id": "d98ba4ea-63c5-435f-b3e0-27f92afdbdaf",
   "metadata": {},
   "source": [
    "# Exercise 4: Word counter\n",
    "\n",
    "write a program to count the number of words in a given text.\n",
    "\n",
    "example:\n",
    "\n",
    "input_text = \"This is a sample text. This text will be used to demonstrate the word counter.\"\n",
    "\n",
    "Expected output:\n",
    "\n",
    "'This': 2\n",
    "\n",
    "'is': 1\n",
    "\n",
    "'a': 1\n",
    "\n",
    "'sample': 1\n",
    "\n",
    "'text.': 1"
   ]
  },
  {
   "cell_type": "code",
   "execution_count": 18,
   "id": "aae76987-7974-458c-8204-1812739352c1",
   "metadata": {},
   "outputs": [
    {
     "name": "stdout",
     "output_type": "stream",
     "text": [
      "'this': 2\n",
      "'is': 1\n",
      "'a': 1\n",
      "'sample': 1\n",
      "'text': 2\n",
      "'will': 1\n",
      "'be': 1\n",
      "'used': 1\n",
      "'to': 1\n",
      "'demonstrate': 1\n",
      "'the': 1\n",
      "'word': 1\n",
      "'counter': 1\n"
     ]
    }
   ],
   "source": [
    "def count_words(text):\n",
    "    \"\"\"Count the number of occurrences of each word in the given text.\n",
    "\n",
    "    Args:\n",
    "        text (str): The input text to analyze.\n",
    "\n",
    "    Returns:\n",
    "        dict: A dictionary with words as keys and their counts as values.\n",
    "    \"\"\"\n",
    "    # Remove punctuation and convert text to lowercase for case-insensitive counting\n",
    "    text = text.lower()\n",
    "\n",
    "    # Replace punctuation with spaces\n",
    "    for char in '.,!?;:()[]{}\"\\'\\\\/-':\n",
    "        text = text.replace(char, \" \")\n",
    "\n",
    "    # Split the text into words\n",
    "    words = text.split()\n",
    "\n",
    "    # Initialize an empty dictionary to store word counts\n",
    "    word_count = {}\n",
    "\n",
    "    # Count the occurrences of each word\n",
    "    for word in words:\n",
    "        if word in word_count:\n",
    "            word_count[word] += 1\n",
    "        else:\n",
    "            word_count[word] = 1\n",
    "\n",
    "    return word_count\n",
    "\n",
    "def print_word_counts(word_count):\n",
    "    \"\"\"Print the word counts in the desired format.\n",
    "\n",
    "    Args:\n",
    "        word_count (dict): A dictionary with words as keys and their counts as values.\n",
    "    \"\"\"\n",
    "    for word, count in word_count.items():\n",
    "        print(f\"'{word}': {count}\")\n",
    "\n",
    "def main():\n",
    "    # Example input text\n",
    "    input_text = \"This is a sample text. This text will be used to demonstrate the word counter.\"\n",
    "\n",
    "    # Get the word counts\n",
    "    word_count = count_words(input_text)\n",
    "\n",
    "    # Print the word counts\n",
    "    print_word_counts(word_count)\n",
    "\n",
    "if __name__ == \"__main__\":\n",
    "    main()"
   ]
  },
  {
   "cell_type": "markdown",
   "id": "b6d76bee-6276-4578-a61d-97b51f177b1e",
   "metadata": {},
   "source": [
    "# Exercise 5: Check for Palindrome\n",
    "\n",
    "Write a Python function called is_palindrome that takes a string as input and returns True if the string is a palindrome, and False otherwise. A palindrome is a word, phrase, number, or other sequence of characters that reads the same forward and backward, ignoring spaces, punctuation, and capitalization.\n",
    "\n",
    "Example:\n",
    "\n",
    "Input: \"racecar\"\n",
    "\n",
    "Expected Output: True"
   ]
  },
  {
   "cell_type": "code",
   "execution_count": 21,
   "id": "28472cb4-930c-4fde-846f-dfa803cd479f",
   "metadata": {},
   "outputs": [
    {
     "name": "stdout",
     "output_type": "stream",
     "text": [
      "Is 'racecar' a palindrome? True\n",
      "Is 'A man, a plan, a canal, Panama!' a palindrome? True\n"
     ]
    }
   ],
   "source": [
    "import re\n",
    "\n",
    "def is_palindrome(s):\n",
    "    \"\"\"Check if the input string is a palindrome.\n",
    "\n",
    "    Args:\n",
    "        s (str): The input string to check.\n",
    "\n",
    "    Returns:\n",
    "        bool: True if the string is a palindrome, False otherwise.\n",
    "    \"\"\"\n",
    "    # Normalize the string: remove non-alphanumeric characters and convert to lowercase\n",
    "    normalized_str = re.sub(r'[^A-Za-z0-9]', '', s).lower()\n",
    "\n",
    "    # Check if the normalized string is the same forwards and backwards\n",
    "    return normalized_str == normalized_str[::-1]\n",
    "\n",
    "# Example usage\n",
    "input_str = \"racecar\"\n",
    "print(f\"Is '{input_str}' a palindrome? {is_palindrome(input_str)}\")\n",
    "\n",
    "input_str = \"A man, a plan, a canal, Panama!\"\n",
    "print(f\"Is '{input_str}' a palindrome? {is_palindrome(input_str)}\")"
   ]
  },
  {
   "cell_type": "code",
   "execution_count": null,
   "id": "c161b4c1-bdb0-47a8-b823-c15b8dda9199",
   "metadata": {},
   "outputs": [],
   "source": []
  }
 ],
 "metadata": {
  "kernelspec": {
   "display_name": "Python [conda env:base] *",
   "language": "python",
   "name": "conda-base-py"
  },
  "language_info": {
   "codemirror_mode": {
    "name": "ipython",
    "version": 3
   },
   "file_extension": ".py",
   "mimetype": "text/x-python",
   "name": "python",
   "nbconvert_exporter": "python",
   "pygments_lexer": "ipython3",
   "version": "3.12.7"
  }
 },
 "nbformat": 4,
 "nbformat_minor": 5
}
